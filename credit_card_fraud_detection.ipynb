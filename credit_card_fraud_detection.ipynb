{
 "cells": [
  {
   "cell_type": "markdown",
   "id": "46bc5f47",
   "metadata": {},
   "source": [
    "# Credit Card Fraud Detection"
   ]
  },
  {
   "cell_type": "code",
   "execution_count": 1,
   "id": "73ad6b9f",
   "metadata": {},
   "outputs": [],
   "source": [
    "\n",
    "# Import necessary libraries\n",
    "import pandas as pd\n",
    "import numpy as np\n",
    "import matplotlib.pyplot as plt\n",
    "import seaborn as sns\n",
    "from sklearn.model_selection import train_test_split\n",
    "from sklearn.preprocessing import StandardScaler\n",
    "from sklearn.linear_model import LogisticRegression\n",
    "from sklearn.tree import DecisionTreeClassifier\n",
    "from sklearn.ensemble import RandomForestClassifier\n",
    "from sklearn.metrics import classification_report, confusion_matrix, accuracy_score\n",
    "import joblib\n"
   ]
  },
  {
   "cell_type": "markdown",
   "id": "b47454d9",
   "metadata": {},
   "source": [
    "## Load datasets and view statistics"
   ]
  },
  {
   "cell_type": "code",
   "execution_count": 5,
   "id": "5091955c",
   "metadata": {},
   "outputs": [],
   "source": [
    "import os\n",
    "import json\n",
    "from zipfile import ZipFile\n",
    "from PIL import Image\n"
   ]
  },
  {
   "cell_type": "code",
   "execution_count": 1,
   "id": "42f50225",
   "metadata": {},
   "outputs": [
    {
     "name": "stdout",
     "output_type": "stream",
     "text": [
      "Requirement already satisfied: kaggle in c:\\users\\saite\\appdata\\local\\programs\\python\\python312\\lib\\site-packages (1.6.17)\n",
      "Requirement already satisfied: six>=1.10 in c:\\users\\saite\\appdata\\local\\programs\\python\\python312\\lib\\site-packages (from kaggle) (1.16.0)\n",
      "Requirement already satisfied: certifi>=2023.7.22 in c:\\users\\saite\\appdata\\local\\programs\\python\\python312\\lib\\site-packages (from kaggle) (2024.7.4)\n",
      "Requirement already satisfied: python-dateutil in c:\\users\\saite\\appdata\\local\\programs\\python\\python312\\lib\\site-packages (from kaggle) (2.9.0.post0)\n",
      "Requirement already satisfied: requests in c:\\users\\saite\\appdata\\local\\programs\\python\\python312\\lib\\site-packages (from kaggle) (2.32.3)\n",
      "Requirement already satisfied: tqdm in c:\\users\\saite\\appdata\\local\\programs\\python\\python312\\lib\\site-packages (from kaggle) (4.66.5)\n",
      "Requirement already satisfied: python-slugify in c:\\users\\saite\\appdata\\local\\programs\\python\\python312\\lib\\site-packages (from kaggle) (8.0.4)\n",
      "Requirement already satisfied: urllib3 in c:\\users\\saite\\appdata\\local\\programs\\python\\python312\\lib\\site-packages (from kaggle) (2.2.2)\n",
      "Requirement already satisfied: bleach in c:\\users\\saite\\appdata\\local\\programs\\python\\python312\\lib\\site-packages (from kaggle) (6.1.0)\n",
      "Requirement already satisfied: webencodings in c:\\users\\saite\\appdata\\local\\programs\\python\\python312\\lib\\site-packages (from bleach->kaggle) (0.5.1)\n",
      "Requirement already satisfied: text-unidecode>=1.3 in c:\\users\\saite\\appdata\\local\\programs\\python\\python312\\lib\\site-packages (from python-slugify->kaggle) (1.3)\n",
      "Requirement already satisfied: charset-normalizer<4,>=2 in c:\\users\\saite\\appdata\\local\\programs\\python\\python312\\lib\\site-packages (from requests->kaggle) (3.3.2)\n",
      "Requirement already satisfied: idna<4,>=2.5 in c:\\users\\saite\\appdata\\local\\programs\\python\\python312\\lib\\site-packages (from requests->kaggle) (3.7)\n",
      "Requirement already satisfied: colorama in c:\\users\\saite\\appdata\\local\\programs\\python\\python312\\lib\\site-packages (from tqdm->kaggle) (0.4.6)\n"
     ]
    }
   ],
   "source": [
    "!pip install kaggle\n"
   ]
  },
  {
   "cell_type": "code",
   "execution_count": 6,
   "id": "d24ee68d",
   "metadata": {},
   "outputs": [],
   "source": [
    "kaggle_credentails = json.load(open(\"kaggle.json\"))"
   ]
  },
  {
   "cell_type": "code",
   "execution_count": 7,
   "id": "6f5fc19c",
   "metadata": {},
   "outputs": [],
   "source": [
    "os.environ['KAGGLE_USERNAME'] = kaggle_credentails[\"username\"]\n",
    "os.environ['KAGGLE_KEY'] = kaggle_credentails[\"key\"]"
   ]
  },
  {
   "cell_type": "code",
   "execution_count": 8,
   "id": "285a0415",
   "metadata": {},
   "outputs": [
    {
     "name": "stdout",
     "output_type": "stream",
     "text": [
      "Dataset URL: https://www.kaggle.com/datasets/kartik2112/fraud-detection\n",
      "License(s): CC0-1.0\n",
      "Downloading fraud-detection.zip to c:\\Users\\saite\\OneDrive\\Desktop\\code files\n",
      "\n"
     ]
    },
    {
     "name": "stderr",
     "output_type": "stream",
     "text": [
      "\n",
      "  0%|          | 0.00/202M [00:00<?, ?B/s]\n",
      "  0%|          | 1.00M/202M [00:09<31:18, 112kB/s]\n",
      "  1%|          | 2.00M/202M [00:18<30:40, 114kB/s]\n",
      "  1%|▏         | 3.00M/202M [00:27<30:12, 115kB/s]\n",
      "  2%|▏         | 4.00M/202M [00:35<28:45, 120kB/s]\n",
      "  2%|▏         | 5.00M/202M [00:38<21:15, 162kB/s]\n",
      "  3%|▎         | 6.00M/202M [00:40<16:07, 212kB/s]\n",
      "  3%|▎         | 7.00M/202M [00:41<12:36, 270kB/s]\n",
      "  4%|▍         | 8.00M/202M [00:43<10:08, 334kB/s]\n",
      "  4%|▍         | 9.00M/202M [00:44<08:06, 416kB/s]\n",
      "  5%|▍         | 10.0M/202M [00:45<06:34, 510kB/s]\n",
      "  5%|▌         | 11.0M/202M [00:46<05:24, 617kB/s]\n",
      "  6%|▌         | 12.0M/202M [00:47<04:31, 734kB/s]\n",
      "  6%|▋         | 13.0M/202M [00:47<03:41, 896kB/s]\n",
      "  7%|▋         | 14.0M/202M [00:48<03:03, 1.07MB/s]\n",
      "  7%|▋         | 15.0M/202M [00:48<02:46, 1.17MB/s]\n",
      "  8%|▊         | 16.0M/202M [00:49<02:27, 1.33MB/s]\n",
      "  8%|▊         | 17.0M/202M [00:50<02:27, 1.32MB/s]\n",
      "  9%|▉         | 18.0M/202M [00:51<02:36, 1.24MB/s]\n",
      "  9%|▉         | 19.0M/202M [00:51<02:16, 1.40MB/s]\n",
      " 10%|▉         | 20.0M/202M [00:52<02:30, 1.27MB/s]\n",
      " 10%|█         | 21.0M/202M [00:53<02:30, 1.26MB/s]\n",
      " 11%|█         | 22.0M/202M [00:54<02:50, 1.11MB/s]\n",
      " 11%|█▏        | 23.0M/202M [00:55<02:43, 1.15MB/s]\n",
      " 12%|█▏        | 24.0M/202M [00:56<02:35, 1.20MB/s]\n",
      " 12%|█▏        | 25.0M/202M [00:57<02:36, 1.18MB/s]\n",
      " 13%|█▎        | 26.0M/202M [00:58<02:32, 1.21MB/s]\n",
      " 13%|█▎        | 27.0M/202M [00:59<02:26, 1.25MB/s]\n",
      " 14%|█▍        | 28.0M/202M [00:59<02:21, 1.29MB/s]\n",
      " 14%|█▍        | 29.0M/202M [01:01<02:50, 1.06MB/s]\n",
      " 15%|█▍        | 30.0M/202M [01:01<02:37, 1.15MB/s]\n",
      " 15%|█▌        | 31.0M/202M [01:02<02:34, 1.16MB/s]\n",
      " 16%|█▌        | 32.0M/202M [01:04<02:55, 1.01MB/s]\n",
      " 16%|█▋        | 33.0M/202M [01:05<03:13, 916kB/s] \n",
      " 17%|█▋        | 34.0M/202M [01:07<03:30, 838kB/s]\n",
      " 17%|█▋        | 35.0M/202M [01:07<03:14, 901kB/s]\n",
      " 18%|█▊        | 36.0M/202M [01:08<02:56, 984kB/s]\n",
      " 18%|█▊        | 37.0M/202M [01:09<02:47, 1.03MB/s]\n",
      " 19%|█▉        | 38.0M/202M [01:10<02:23, 1.20MB/s]\n",
      " 19%|█▉        | 39.0M/202M [01:10<02:13, 1.28MB/s]\n",
      " 20%|█▉        | 40.0M/202M [01:11<02:09, 1.31MB/s]\n",
      " 20%|██        | 41.0M/202M [01:12<02:11, 1.28MB/s]\n",
      " 21%|██        | 42.0M/202M [01:13<02:22, 1.18MB/s]\n",
      " 21%|██▏       | 43.0M/202M [01:15<02:46, 1.00MB/s]\n",
      " 22%|██▏       | 44.0M/202M [01:15<02:39, 1.04MB/s]\n",
      " 22%|██▏       | 45.0M/202M [01:16<02:39, 1.03MB/s]\n",
      " 23%|██▎       | 46.0M/202M [01:18<02:47, 978kB/s] \n",
      " 23%|██▎       | 47.0M/202M [01:18<02:28, 1.10MB/s]\n",
      " 24%|██▍       | 48.0M/202M [01:19<02:10, 1.24MB/s]\n",
      " 24%|██▍       | 49.0M/202M [01:20<01:58, 1.35MB/s]\n",
      " 25%|██▍       | 50.0M/202M [01:20<02:00, 1.32MB/s]\n",
      " 25%|██▌       | 51.0M/202M [01:21<01:51, 1.42MB/s]\n",
      " 26%|██▌       | 52.0M/202M [01:22<02:01, 1.29MB/s]\n",
      " 26%|██▌       | 53.0M/202M [01:23<01:54, 1.36MB/s]\n",
      " 27%|██▋       | 54.0M/202M [01:23<01:36, 1.61MB/s]\n",
      " 27%|██▋       | 55.0M/202M [01:24<01:38, 1.57MB/s]\n",
      " 28%|██▊       | 56.0M/202M [01:25<02:07, 1.20MB/s]\n",
      " 28%|██▊       | 57.0M/202M [01:26<01:59, 1.27MB/s]\n",
      " 29%|██▊       | 58.0M/202M [01:26<01:37, 1.55MB/s]\n",
      " 29%|██▉       | 59.0M/202M [01:27<01:23, 1.79MB/s]\n",
      " 30%|██▉       | 60.0M/202M [01:27<01:16, 1.95MB/s]\n",
      " 30%|███       | 61.0M/202M [01:28<01:21, 1.82MB/s]\n",
      " 31%|███       | 62.0M/202M [01:28<01:17, 1.89MB/s]\n",
      " 31%|███       | 63.0M/202M [01:28<01:05, 2.23MB/s]\n",
      " 32%|███▏      | 64.0M/202M [01:29<00:54, 2.67MB/s]\n",
      " 32%|███▏      | 65.0M/202M [01:29<00:51, 2.79MB/s]\n",
      " 33%|███▎      | 66.0M/202M [01:29<00:56, 2.54MB/s]\n",
      " 33%|███▎      | 67.0M/202M [01:30<00:54, 2.58MB/s]\n",
      " 34%|███▎      | 68.0M/202M [01:30<00:53, 2.61MB/s]\n",
      " 34%|███▍      | 69.0M/202M [01:31<00:57, 2.44MB/s]\n",
      " 35%|███▍      | 70.0M/202M [01:31<00:59, 2.34MB/s]\n",
      " 35%|███▌      | 71.0M/202M [01:32<01:07, 2.04MB/s]\n",
      " 36%|███▌      | 72.0M/202M [01:32<00:59, 2.29MB/s]\n",
      " 36%|███▌      | 73.0M/202M [01:33<01:02, 2.15MB/s]\n",
      " 37%|███▋      | 74.0M/202M [01:33<01:01, 2.20MB/s]\n",
      " 37%|███▋      | 75.0M/202M [01:34<01:00, 2.21MB/s]\n",
      " 38%|███▊      | 76.0M/202M [01:34<00:55, 2.37MB/s]\n",
      " 38%|███▊      | 77.0M/202M [01:35<01:08, 1.92MB/s]\n",
      " 39%|███▊      | 78.0M/202M [01:36<01:21, 1.59MB/s]\n",
      " 39%|███▉      | 79.0M/202M [01:36<01:01, 2.09MB/s]\n",
      " 40%|███▉      | 80.0M/202M [01:36<01:00, 2.12MB/s]\n",
      " 40%|████      | 81.0M/202M [01:37<01:03, 1.99MB/s]\n",
      " 41%|████      | 82.0M/202M [01:38<01:08, 1.85MB/s]\n",
      " 41%|████      | 83.0M/202M [01:38<01:01, 2.03MB/s]\n",
      " 42%|████▏     | 84.0M/202M [01:39<00:59, 2.08MB/s]\n",
      " 42%|████▏     | 85.0M/202M [01:39<01:00, 2.02MB/s]\n",
      " 43%|████▎     | 86.0M/202M [01:40<00:59, 2.05MB/s]\n",
      " 43%|████▎     | 87.0M/202M [01:40<00:51, 2.36MB/s]\n",
      " 44%|████▎     | 88.0M/202M [01:40<00:47, 2.50MB/s]\n",
      " 44%|████▍     | 89.0M/202M [01:41<01:05, 1.80MB/s]\n",
      " 45%|████▍     | 90.0M/202M [01:41<00:49, 2.38MB/s]\n",
      " 45%|████▌     | 91.0M/202M [01:42<00:55, 2.09MB/s]\n",
      " 46%|████▌     | 92.0M/202M [01:42<00:46, 2.47MB/s]\n",
      " 46%|████▌     | 93.0M/202M [01:42<00:40, 2.79MB/s]\n",
      " 47%|████▋     | 94.0M/202M [01:43<00:35, 3.17MB/s]\n",
      " 47%|████▋     | 95.0M/202M [01:43<00:32, 3.43MB/s]\n",
      " 48%|████▊     | 96.0M/202M [01:43<00:32, 3.39MB/s]\n",
      " 48%|████▊     | 97.0M/202M [01:43<00:29, 3.77MB/s]\n",
      " 49%|████▊     | 98.0M/202M [01:44<00:26, 4.05MB/s]\n",
      " 49%|████▉     | 99.0M/202M [01:44<00:28, 3.80MB/s]\n",
      " 50%|████▉     | 100M/202M [01:44<00:28, 3.72MB/s] \n",
      " 50%|█████     | 101M/202M [01:45<00:30, 3.42MB/s]\n",
      " 51%|█████     | 102M/202M [01:45<00:31, 3.34MB/s]\n",
      " 51%|█████     | 103M/202M [01:45<00:31, 3.25MB/s]\n",
      " 51%|█████▏    | 104M/202M [01:46<00:34, 2.98MB/s]\n",
      " 52%|█████▏    | 105M/202M [01:46<00:35, 2.84MB/s]\n",
      " 52%|█████▏    | 106M/202M [01:46<00:35, 2.83MB/s]\n",
      " 53%|█████▎    | 107M/202M [01:47<00:46, 2.15MB/s]\n",
      " 53%|█████▎    | 108M/202M [01:48<00:46, 2.12MB/s]\n",
      " 54%|█████▍    | 109M/202M [01:48<00:46, 2.11MB/s]\n",
      " 54%|█████▍    | 110M/202M [01:49<00:43, 2.24MB/s]\n",
      " 55%|█████▍    | 111M/202M [01:50<01:01, 1.56MB/s]\n",
      " 55%|█████▌    | 112M/202M [01:50<00:54, 1.72MB/s]\n",
      " 56%|█████▌    | 113M/202M [01:51<01:06, 1.40MB/s]\n",
      " 56%|█████▋    | 114M/202M [01:52<01:02, 1.46MB/s]\n",
      " 57%|█████▋    | 115M/202M [01:53<00:59, 1.53MB/s]\n",
      " 57%|█████▋    | 116M/202M [01:53<00:53, 1.69MB/s]\n",
      " 58%|█████▊    | 117M/202M [01:54<00:57, 1.56MB/s]\n",
      " 58%|█████▊    | 118M/202M [01:54<00:55, 1.59MB/s]\n",
      " 59%|█████▉    | 119M/202M [01:55<01:00, 1.43MB/s]\n",
      " 59%|█████▉    | 120M/202M [01:56<00:54, 1.58MB/s]\n",
      " 60%|█████▉    | 121M/202M [01:57<00:59, 1.43MB/s]\n",
      " 60%|██████    | 122M/202M [01:58<01:08, 1.22MB/s]\n",
      " 61%|██████    | 123M/202M [01:59<01:05, 1.26MB/s]\n",
      " 61%|██████▏   | 124M/202M [02:00<01:11, 1.14MB/s]\n",
      " 62%|██████▏   | 125M/202M [02:01<01:19, 1.02MB/s]\n",
      " 62%|██████▏   | 126M/202M [02:03<01:30, 883kB/s] \n",
      " 63%|██████▎   | 127M/202M [02:04<01:29, 881kB/s]\n",
      " 63%|██████▎   | 128M/202M [02:06<01:46, 729kB/s]\n",
      " 64%|██████▍   | 129M/202M [02:07<01:40, 759kB/s]\n",
      " 64%|██████▍   | 130M/202M [02:08<01:36, 779kB/s]\n",
      " 65%|██████▍   | 131M/202M [02:10<01:42, 729kB/s]\n",
      " 65%|██████▌   | 132M/202M [02:12<01:46, 689kB/s]\n",
      " 66%|██████▌   | 133M/202M [02:13<01:48, 666kB/s]\n",
      " 66%|██████▋   | 134M/202M [02:15<01:36, 737kB/s]\n",
      " 67%|██████▋   | 135M/202M [02:16<01:30, 776kB/s]\n",
      " 67%|██████▋   | 136M/202M [02:17<01:30, 765kB/s]\n",
      " 68%|██████▊   | 137M/202M [02:18<01:25, 793kB/s]\n",
      " 68%|██████▊   | 138M/202M [02:20<01:38, 678kB/s]\n",
      " 69%|██████▉   | 139M/202M [02:22<01:43, 640kB/s]\n",
      " 69%|██████▉   | 140M/202M [02:24<01:45, 616kB/s]\n",
      " 70%|██████▉   | 141M/202M [02:26<01:47, 593kB/s]\n",
      " 70%|███████   | 142M/202M [02:28<01:42, 614kB/s]\n",
      " 71%|███████   | 143M/202M [02:29<01:31, 672kB/s]\n",
      " 71%|███████▏  | 144M/202M [02:31<01:35, 633kB/s]\n",
      " 72%|███████▏  | 145M/202M [02:32<01:33, 636kB/s]\n",
      " 72%|███████▏  | 146M/202M [02:33<01:18, 744kB/s]\n",
      " 73%|███████▎  | 147M/202M [02:35<01:19, 722kB/s]\n",
      " 73%|███████▎  | 148M/202M [02:37<01:27, 649kB/s]\n",
      " 74%|███████▍  | 149M/202M [02:39<01:29, 623kB/s]\n",
      " 74%|███████▍  | 150M/202M [02:40<01:30, 600kB/s]\n",
      " 75%|███████▍  | 151M/202M [02:42<01:28, 607kB/s]\n",
      " 75%|███████▌  | 152M/202M [02:43<01:18, 665kB/s]\n",
      " 76%|███████▌  | 153M/202M [02:44<01:08, 754kB/s]\n",
      " 76%|███████▋  | 154M/202M [02:45<01:01, 813kB/s]\n",
      " 77%|███████▋  | 155M/202M [02:46<00:52, 930kB/s]\n",
      " 77%|███████▋  | 156M/202M [02:47<00:54, 884kB/s]\n",
      " 78%|███████▊  | 157M/202M [02:49<00:56, 839kB/s]\n",
      " 78%|███████▊  | 158M/202M [02:50<00:56, 816kB/s]\n",
      " 79%|███████▊  | 159M/202M [02:51<00:48, 921kB/s]\n",
      " 79%|███████▉  | 160M/202M [02:52<00:41, 1.05MB/s]\n",
      " 80%|███████▉  | 161M/202M [02:52<00:35, 1.20MB/s]\n",
      " 80%|████████  | 162M/202M [02:54<00:39, 1.05MB/s]\n",
      " 81%|████████  | 163M/202M [02:54<00:34, 1.17MB/s]\n",
      " 81%|████████  | 164M/202M [02:55<00:32, 1.21MB/s]\n",
      " 82%|████████▏ | 165M/202M [02:56<00:29, 1.31MB/s]\n",
      " 82%|████████▏ | 166M/202M [02:56<00:28, 1.34MB/s]\n",
      " 83%|████████▎ | 167M/202M [02:57<00:25, 1.44MB/s]\n",
      " 83%|████████▎ | 168M/202M [02:58<00:23, 1.51MB/s]\n",
      " 84%|████████▎ | 169M/202M [02:58<00:21, 1.58MB/s]\n",
      " 84%|████████▍ | 170M/202M [02:59<00:21, 1.56MB/s]\n",
      " 85%|████████▍ | 171M/202M [03:00<00:25, 1.27MB/s]\n",
      " 85%|████████▌ | 172M/202M [03:01<00:27, 1.14MB/s]\n",
      " 86%|████████▌ | 173M/202M [03:02<00:24, 1.22MB/s]\n",
      " 86%|████████▌ | 174M/202M [03:03<00:24, 1.17MB/s]\n",
      " 87%|████████▋ | 175M/202M [03:04<00:25, 1.12MB/s]\n",
      " 87%|████████▋ | 176M/202M [03:05<00:23, 1.15MB/s]\n",
      " 88%|████████▊ | 177M/202M [03:06<00:24, 1.07MB/s]\n",
      " 88%|████████▊ | 178M/202M [03:07<00:22, 1.14MB/s]\n",
      " 89%|████████▊ | 179M/202M [03:08<00:20, 1.18MB/s]\n",
      " 89%|████████▉ | 180M/202M [03:08<00:19, 1.19MB/s]\n",
      " 90%|████████▉ | 181M/202M [03:09<00:18, 1.16MB/s]\n",
      " 90%|█████████ | 182M/202M [03:10<00:16, 1.26MB/s]\n",
      " 91%|█████████ | 183M/202M [03:11<00:16, 1.20MB/s]\n",
      " 91%|█████████ | 184M/202M [03:12<00:17, 1.09MB/s]\n",
      " 92%|█████████▏| 185M/202M [03:13<00:15, 1.18MB/s]\n",
      " 92%|█████████▏| 186M/202M [03:14<00:13, 1.22MB/s]\n",
      " 93%|█████████▎| 187M/202M [03:14<00:12, 1.27MB/s]\n",
      " 93%|█████████▎| 188M/202M [03:15<00:12, 1.21MB/s]\n",
      " 94%|█████████▎| 189M/202M [03:16<00:11, 1.20MB/s]\n",
      " 94%|█████████▍| 190M/202M [03:17<00:10, 1.20MB/s]\n",
      " 95%|█████████▍| 191M/202M [03:18<00:09, 1.20MB/s]\n",
      " 95%|█████████▌| 192M/202M [03:19<00:07, 1.36MB/s]\n",
      " 96%|█████████▌| 193M/202M [03:19<00:05, 1.57MB/s]\n",
      " 96%|█████████▌| 194M/202M [03:20<00:05, 1.63MB/s]\n",
      " 97%|█████████▋| 195M/202M [03:20<00:04, 1.63MB/s]\n",
      " 97%|█████████▋| 196M/202M [03:21<00:04, 1.52MB/s]\n",
      " 98%|█████████▊| 197M/202M [03:22<00:03, 1.64MB/s]\n",
      " 98%|█████████▊| 198M/202M [03:22<00:02, 1.79MB/s]\n",
      " 99%|█████████▊| 199M/202M [03:23<00:02, 1.38MB/s]\n",
      " 99%|█████████▉| 200M/202M [03:24<00:01, 1.39MB/s]\n",
      "100%|█████████▉| 201M/202M [03:24<00:00, 1.56MB/s]\n",
      "100%|██████████| 202M/202M [03:25<00:00, 1.47MB/s]\n",
      "100%|██████████| 202M/202M [03:25<00:00, 1.03MB/s]\n"
     ]
    }
   ],
   "source": [
    "!kaggle datasets download -d kartik2112/fraud-detection"
   ]
  },
  {
   "cell_type": "code",
   "execution_count": 10,
   "id": "7db8d96e",
   "metadata": {},
   "outputs": [],
   "source": [
    "with ZipFile(\"fraud-detection.zip\", 'r') as zip_ref:\n",
    "    zip_ref.extractall()"
   ]
  },
  {
   "cell_type": "code",
   "execution_count": 13,
   "id": "b0e4d70e",
   "metadata": {},
   "outputs": [
    {
     "name": "stdout",
     "output_type": "stream",
     "text": [
      "Train Dataset Overview:\n",
      "          Unnamed: 0        cc_num           amt           zip           lat  \\\n",
      "count  1.296675e+06  1.296675e+06  1.296675e+06  1.296675e+06  1.296675e+06   \n",
      "mean   6.483370e+05  4.171920e+17  7.035104e+01  4.880067e+04  3.853762e+01   \n",
      "std    3.743180e+05  1.308806e+18  1.603160e+02  2.689322e+04  5.075808e+00   \n",
      "min    0.000000e+00  6.041621e+10  1.000000e+00  1.257000e+03  2.002710e+01   \n",
      "25%    3.241685e+05  1.800429e+14  9.650000e+00  2.623700e+04  3.462050e+01   \n",
      "50%    6.483370e+05  3.521417e+15  4.752000e+01  4.817400e+04  3.935430e+01   \n",
      "75%    9.725055e+05  4.642255e+15  8.314000e+01  7.204200e+04  4.194040e+01   \n",
      "max    1.296674e+06  4.992346e+18  2.894890e+04  9.978300e+04  6.669330e+01   \n",
      "\n",
      "               long      city_pop     unix_time     merch_lat    merch_long  \\\n",
      "count  1.296675e+06  1.296675e+06  1.296675e+06  1.296675e+06  1.296675e+06   \n",
      "mean  -9.022634e+01  8.882444e+04  1.349244e+09  3.853734e+01 -9.022646e+01   \n",
      "std    1.375908e+01  3.019564e+05  1.284128e+07  5.109788e+00  1.377109e+01   \n",
      "min   -1.656723e+02  2.300000e+01  1.325376e+09  1.902779e+01 -1.666712e+02   \n",
      "25%   -9.679800e+01  7.430000e+02  1.338751e+09  3.473357e+01 -9.689728e+01   \n",
      "50%   -8.747690e+01  2.456000e+03  1.349250e+09  3.936568e+01 -8.743839e+01   \n",
      "75%   -8.015800e+01  2.032800e+04  1.359385e+09  4.195716e+01 -8.023680e+01   \n",
      "max   -6.795030e+01  2.906700e+06  1.371817e+09  6.751027e+01 -6.695090e+01   \n",
      "\n",
      "           is_fraud  \n",
      "count  1.296675e+06  \n",
      "mean   5.788652e-03  \n",
      "std    7.586269e-02  \n",
      "min    0.000000e+00  \n",
      "25%    0.000000e+00  \n",
      "50%    0.000000e+00  \n",
      "75%    0.000000e+00  \n",
      "max    1.000000e+00  \n",
      "Test Dataset Overview:\n",
      "           Unnamed: 0        cc_num            amt            zip  \\\n",
      "count  555719.000000  5.557190e+05  555719.000000  555719.000000   \n",
      "mean   277859.000000  4.178387e+17      69.392810   48842.628015   \n",
      "std    160422.401459  1.309837e+18     156.745941   26855.283328   \n",
      "min         0.000000  6.041621e+10       1.000000    1257.000000   \n",
      "25%    138929.500000  1.800429e+14       9.630000   26292.000000   \n",
      "50%    277859.000000  3.521417e+15      47.290000   48174.000000   \n",
      "75%    416788.500000  4.635331e+15      83.010000   72011.000000   \n",
      "max    555718.000000  4.992346e+18   22768.110000   99921.000000   \n",
      "\n",
      "                 lat           long      city_pop     unix_time  \\\n",
      "count  555719.000000  555719.000000  5.557190e+05  5.557190e+05   \n",
      "mean       38.543253     -90.231325  8.822189e+04  1.380679e+09   \n",
      "std         5.061336      13.721780  3.003909e+05  5.201104e+06   \n",
      "min        20.027100    -165.672300  2.300000e+01  1.371817e+09   \n",
      "25%        34.668900     -96.798000  7.410000e+02  1.376029e+09   \n",
      "50%        39.371600     -87.476900  2.408000e+03  1.380762e+09   \n",
      "75%        41.894800     -80.175200  1.968500e+04  1.385867e+09   \n",
      "max        65.689900     -67.950300  2.906700e+06  1.388534e+09   \n",
      "\n",
      "           merch_lat     merch_long       is_fraud  \n",
      "count  555719.000000  555719.000000  555719.000000  \n",
      "mean       38.542798     -90.231380       0.003860  \n",
      "std         5.095829      13.733071       0.062008  \n",
      "min        19.027422    -166.671575       0.000000  \n",
      "25%        34.755302     -96.905129       0.000000  \n",
      "50%        39.376593     -87.445204       0.000000  \n",
      "75%        41.954163     -80.264637       0.000000  \n",
      "max        66.679297     -66.952026       1.000000  \n"
     ]
    }
   ],
   "source": [
    "\n",
    "# Load datasets\n",
    "train_data = pd.read_csv(r'fraudTrain.csv')\n",
    "test_data = pd.read_csv(r'fraudTest.csv')\n",
    "\n",
    "# Display dataset statistics\n",
    "print(\"Train Dataset Overview:\\n\", train_data.describe())\n",
    "print(\"Test Dataset Overview:\\n\", test_data.describe())\n"
   ]
  },
  {
   "cell_type": "markdown",
   "id": "61d3a470",
   "metadata": {},
   "source": [
    "## Preprocess Data"
   ]
  },
  {
   "cell_type": "code",
   "execution_count": 14,
   "id": "16c696bd",
   "metadata": {},
   "outputs": [],
   "source": [
    "# Preprocessing: Limit the number of categories for large categorical columns\n",
    "def limit_categories(df, column, threshold=0.01):\n",
    "    # Calculate the frequency of each category\n",
    "    value_counts = df[column].value_counts(normalize=True)\n",
    "    \n",
    "    # Get the categories that appear above the threshold\n",
    "    to_keep = value_counts[value_counts > threshold].index\n",
    "    \n",
    "    # Replace less frequent categories with \"Other\"\n",
    "    df[column] = df[column].where(df[column].isin(to_keep), other='Other')\n",
    "\n",
    "# Limit categories for 'merchant' and 'city'\n",
    "limit_categories(train_data, 'merchant', threshold=0.01)\n",
    "limit_categories(test_data, 'merchant', threshold=0.01)\n",
    "limit_categories(train_data, 'city', threshold=0.01)\n",
    "limit_categories(test_data, 'city', threshold=0.01)\n",
    "\n",
    "# Feature selection (removing features not necessary for prediction)\n",
    "X_train = train_data.drop(columns=['is_fraud', 'trans_num', 'cc_num', 'first', 'last', 'street', 'zip', 'dob', 'merchant', 'category', 'job', 'trans_date_trans_time'])\n",
    "X_test = test_data.drop(columns=['is_fraud', 'trans_num', 'cc_num', 'first', 'last', 'street', 'zip', 'dob', 'merchant', 'category', 'job', 'trans_date_trans_time'])\n",
    "y_train = train_data['is_fraud']\n",
    "y_test = test_data['is_fraud']\n",
    "\n",
    "# Convert categorical columns into dummy variables (one-hot encoding)\n",
    "X_train = pd.get_dummies(X_train, drop_first=True)\n",
    "X_test = pd.get_dummies(X_test, drop_first=True)\n",
    "\n",
    "# Ensure that both training and test sets have the same dummy variables\n",
    "X_train, X_test = X_train.align(X_test, join='left', axis=1, fill_value=0)\n",
    "\n",
    "# Data scaling\n",
    "scaler = StandardScaler()\n",
    "X_train_scaled = scaler.fit_transform(X_train)\n",
    "X_test_scaled = scaler.transform(X_test)\n"
   ]
  },
  {
   "cell_type": "markdown",
   "id": "dae33e6e",
   "metadata": {},
   "source": [
    "## Data Analysis"
   ]
  },
  {
   "cell_type": "code",
   "execution_count": 15,
   "id": "0be3a8e7",
   "metadata": {},
   "outputs": [
    {
     "data": {
      "image/png": "[encoded data removed]",
      "text/plain": [
       "<Figure size 640x480 with 1 Axes>"
      ]
     },
     "metadata": {},
     "output_type": "display_data"
    }
   ],
   "source": [
    "\n",
    "# Analyze the data (fraud vs no fraud counts)\n",
    "sns.countplot(x='is_fraud', data=train_data)\n",
    "plt.title('Fraud vs No Fraud - Training Data')\n",
    "plt.show()\n"
   ]
  },
  {
   "cell_type": "markdown",
   "id": "4a2181c9",
   "metadata": {},
   "source": [
    "## Train Models"
   ]
  },
  {
   "cell_type": "code",
   "execution_count": 16,
   "id": "bc9851c8",
   "metadata": {},
   "outputs": [
    {
     "name": "stdout",
     "output_type": "stream",
     "text": [
      "Logistic Regression Accuracy: 99.55%\n",
      "Decision Tree Accuracy: 91.19%\n",
      "Random Forest Accuracy: 99.61%\n"
     ]
    }
   ],
   "source": [
    "\n",
    "# Model building and training\n",
    "algorithms = {\n",
    "    'Logistic Regression': LogisticRegression(),\n",
    "    'Decision Tree': DecisionTreeClassifier(),\n",
    "    'Random Forest': RandomForestClassifier()\n",
    "}\n",
    "\n",
    "best_accuracy = 0\n",
    "best_model = None\n",
    "best_model_name = \"\"\n",
    "\n",
    "for name, model in algorithms.items():\n",
    "    model.fit(X_train_scaled, y_train)\n",
    "    y_pred = model.predict(X_test_scaled)\n",
    "    accuracy = accuracy_score(y_test, y_pred)\n",
    "    print(f\"{name} Accuracy: {accuracy * 100:.2f}%\")\n",
    "    \n",
    "    if accuracy > best_accuracy:\n",
    "        best_accuracy = accuracy\n",
    "        best_model = model\n",
    "        best_model_name = name\n"
   ]
  },
  {
   "cell_type": "markdown",
   "id": "08ccd2f3",
   "metadata": {},
   "source": [
    "## Save the Best Model"
   ]
  },
  {
   "cell_type": "code",
   "execution_count": 17,
   "id": "852ebb56",
   "metadata": {},
   "outputs": [
    {
     "name": "stdout",
     "output_type": "stream",
     "text": [
      "Best Model: Random Forest with Accuracy: 99.61%\n"
     ]
    }
   ],
   "source": [
    "\n",
    "# Save the best model\n",
    "joblib.dump(best_model, 'credit_card_fraud_detection.pkl')\n",
    "joblib.dump(scaler, 'scaler_fraud_detection.joblib')\n",
    "joblib.dump(X_train.columns, 'X_train_columns.pkl')\n",
    "print(f\"Best Model: {best_model_name} with Accuracy: {best_accuracy * 100:.2f}%\")\n",
    "\n"
   ]
  },
  {
   "cell_type": "markdown",
   "id": "33b05108",
   "metadata": {},
   "source": [
    "## Confusion Matrix for Best Model"
   ]
  },
  {
   "cell_type": "code",
   "execution_count": 18,
   "id": "4c711e50",
   "metadata": {},
   "outputs": [
    {
     "data": {
      "image/png": "[encoded data removed]",
      "text/plain": [
       "<Figure size 640x480 with 2 Axes>"
      ]
     },
     "metadata": {},
     "output_type": "display_data"
    }
   ],
   "source": [
    "\n",
    "# Confusion matrix for the best model\n",
    "y_pred_best = best_model.predict(X_test_scaled)\n",
    "conf_matrix = confusion_matrix(y_test, y_pred_best)\n",
    "sns.heatmap(conf_matrix, annot=True, fmt='d', cmap='Blues')\n",
    "plt.title(f'Confusion Matrix - {best_model_name}')\n",
    "plt.show()\n"
   ]
  },
  {
   "cell_type": "markdown",
   "id": "557f5fcf",
   "metadata": {},
   "source": [
    "## Plot Histogram of Transaction Amounts"
   ]
  },
  {
   "cell_type": "code",
   "execution_count": 19,
   "id": "0219329a",
   "metadata": {},
   "outputs": [
    {
     "data": {
      "image/png": "[encoded data removed]",
      "text/plain": [
       "<Figure size 640x480 with 1 Axes>"
      ]
     },
     "metadata": {},
     "output_type": "display_data"
    }
   ],
   "source": [
    "\n",
    "# Histogram of Amount (amt) feature\n",
    "plt.hist(train_data['amt'], bins=50, color='blue', edgecolor='black')\n",
    "plt.title('Transaction Amount Distribution')\n",
    "plt.xlabel('Transaction Amount')\n",
    "plt.ylabel('Frequency')\n",
    "plt.show()\n"
   ]
  },
  {
   "cell_type": "markdown",
   "id": "4b17a48f",
   "metadata": {},
   "source": [
    "## Plot Fraud Count Graph"
   ]
  },
  {
   "cell_type": "code",
   "execution_count": 20,
   "id": "bc3fdfec",
   "metadata": {},
   "outputs": [
    {
     "data": {
      "image/png": "[encoded data removed]",
      "text/plain": [
       "<Figure size 640x480 with 1 Axes>"
      ]
     },
     "metadata": {},
     "output_type": "display_data"
    }
   ],
   "source": [
    "\n",
    "# Plot Fraud Count Graph\n",
    "sns.countplot(x='is_fraud', data=train_data)\n",
    "plt.title('Fraud Count in Training Data')\n",
    "plt.show()\n"
   ]
  },
  {
   "cell_type": "markdown",
   "id": "53cc8eca",
   "metadata": {},
   "source": [
    "## Classification Report for Best Model"
   ]
  },
  {
   "cell_type": "code",
   "execution_count": 21,
   "id": "483b3c2e",
   "metadata": {},
   "outputs": [
    {
     "name": "stdout",
     "output_type": "stream",
     "text": [
      "Classification Report for Random Forest:\n",
      "              precision    recall  f1-score   support\n",
      "\n",
      "           0       1.00      1.00      1.00    553574\n",
      "           1       0.47      0.03      0.06      2145\n",
      "\n",
      "    accuracy                           1.00    555719\n",
      "   macro avg       0.73      0.52      0.53    555719\n",
      "weighted avg       0.99      1.00      0.99    555719\n",
      "\n"
     ]
    }
   ],
   "source": [
    "\n",
    "# Classification Report for the Best Model\n",
    "print(f\"Classification Report for {best_model_name}:\")\n",
    "print(classification_report(y_test, y_pred_best))\n"
   ]
  }
 ],
 "metadata": {
  "kernelspec": {
   "display_name": "Python 3",
   "language": "python",
   "name": "python3"
  },
  "language_info": {
   "codemirror_mode": {
    "name": "ipython",
    "version": 3
   },
   "file_extension": ".py",
   "mimetype": "text/x-python",
   "name": "python",
   "nbconvert_exporter": "python",
   "pygments_lexer": "ipython3",
   "version": "3.12.5"
  }
 },
 "nbformat": 4,
 "nbformat_minor": 5
}
